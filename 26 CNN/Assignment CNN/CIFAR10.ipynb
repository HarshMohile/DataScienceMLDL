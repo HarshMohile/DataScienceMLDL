{
  "nbformat": 4,
  "nbformat_minor": 0,
  "metadata": {
    "colab": {
      "name": "CIFAR10.ipynb",
      "provenance": [],
      "collapsed_sections": []
    },
    "kernelspec": {
      "name": "python3",
      "display_name": "Python 3"
    },
    "accelerator": "GPU"
  },
  "cells": [
    {
      "cell_type": "code",
      "metadata": {
        "id": "yYFWC7d0oWcZ"
      },
      "source": [
        "import pandas as pd\r\n",
        "import numpy as np\r\n",
        "import matplotlib.pyplot as plt\r\n",
        "import seaborn as sns"
      ],
      "execution_count": 70,
      "outputs": []
    },
    {
      "cell_type": "code",
      "metadata": {
        "id": "1vVIrjm2olwL"
      },
      "source": [
        "from tensorflow.keras import datasets ,layers ,models\r\n",
        "from tensorflow import keras"
      ],
      "execution_count": 2,
      "outputs": []
    },
    {
      "cell_type": "code",
      "metadata": {
        "id": "NthN3Colol6G"
      },
      "source": [
        "# Data loading\r\n",
        "(X_train , y_train) ,(X_test, y_test) = datasets.cifar10.load_data() "
      ],
      "execution_count": 43,
      "outputs": []
    },
    {
      "cell_type": "code",
      "metadata": {
        "colab": {
          "base_uri": "https://localhost:8080/",
          "height": 266
        },
        "id": "VDWajYeqom4g",
        "outputId": "b8f7c53a-cce8-42b2-dc03-650ff1ca24c6"
      },
      "source": [
        "X_train.shape\r\n",
        "# train sameple :50k , each sample is 32 *32 , 3 is RGB channel\r\n",
        "\r\n",
        "\r\n",
        "X_test.shape\r\n",
        "\r\n",
        "\r\n",
        "plt.imshow(X_train[0]) # view images \r\n",
        "\r\n",
        "###################### reshapping\r\n",
        "y_train[:5]\r\n",
        "y_train.shape\r\n",
        "y_train = y_train.reshape(-1,)\r\n",
        "\r\n",
        "#Similarly for y_test\r\n",
        "y_test[:5]\r\n",
        "y_test= y_test.reshape(-1,)\r\n",
        "\r\n",
        "# Scaling 0-255\r\n",
        "X_train = X_train/255.0\r\n",
        "X_test = X_test /255.0\r\n",
        "\r\n",
        "\r\n",
        "\r\n",
        "#Sigmoid  gives probab as op  0.4 0.67  that added together doesnt equals 100 \r\n",
        "# Softmax --- //  ---  0.45 0.59 such that  a+b =100  cuz a/a+b   b/a+b"
      ],
      "execution_count": 44,
      "outputs": [
        {
          "output_type": "display_data",
          "data": {
            "image/png": "[encoded data removed]",
            "text/plain": [
              "<Figure size 432x288 with 1 Axes>"
            ]
          },
          "metadata": {
            "tags": [],
            "needs_background": "light"
          }
        }
      ]
    },
    {
      "cell_type": "code",
      "metadata": {
        "id": "bPuuLgLzonp-"
      },
      "source": [
        "def build_model(hp):  \r\n",
        "  model = keras.Sequential([\r\n",
        "                         \r\n",
        "    keras.layers.Conv2D(\r\n",
        "        filters=hp.Int('conv_1_filter', min_value=32, max_value=128, step=16),\r\n",
        "        kernel_size=hp.Choice('conv_1_kernel', values = [3,5]),\r\n",
        "        activation='relu',\r\n",
        "        input_shape=(32,32,3)\r\n",
        "        \r\n",
        "    ),\r\n",
        "    keras.layers.MaxPooling2D((2,2)),\r\n",
        "\r\n",
        "   \r\n",
        "    keras.layers.Conv2D(\r\n",
        "        filters=hp.Int('conv_2_filter', min_value=32, max_value=64, step=16),\r\n",
        "        kernel_size=hp.Choice('conv_2_kernel', values = [3,5]),\r\n",
        "        activation='relu'\r\n",
        "    ),\r\n",
        "     keras.layers.MaxPooling2D((2,2)),\r\n",
        "     \r\n",
        "   \r\n",
        "    keras.layers.Flatten(),\r\n",
        "    keras.layers.Dense(\r\n",
        "        units=hp.Int('dense_1_units', min_value=32, max_value=128, step=16),\r\n",
        "        activation='relu'\r\n",
        "    ),\r\n",
        "    keras.layers.Dense(10, activation='softmax')\r\n",
        "  ])\r\n",
        "  \r\n",
        "  model.compile(optimizer=keras.optimizers.Adam(hp.Choice('learning_rate', values=[1e-2, 1e-3])),\r\n",
        "              loss='sparse_categorical_crossentropy',\r\n",
        "              metrics=['accuracy'])\r\n",
        "  \r\n",
        "  return model"
      ],
      "execution_count": 45,
      "outputs": []
    },
    {
      "cell_type": "code",
      "metadata": {
        "colab": {
          "base_uri": "https://localhost:8080/"
        },
        "id": "SuPeM0J2pujm",
        "outputId": "5183dca7-d138-44e4-a822-566397396026"
      },
      "source": [
        "!pip install keras-tuner  \r\n"
      ],
      "execution_count": 11,
      "outputs": [
        {
          "output_type": "stream",
          "text": [
            "Collecting keras-tuner\n",
            "\u001b[?25l  Downloading https://files.pythonhosted.org/packages/20/ec/1ef246787174b1e2bb591c95f29d3c1310070cad877824f907faba3dade9/keras-tuner-1.0.2.tar.gz (62kB)\n",
            "\r\u001b[K     |█████▏                          | 10kB 28.3MB/s eta 0:00:01\r\u001b[K     |██████████▍                     | 20kB 15.3MB/s eta 0:00:01\r\u001b[K     |███████████████▋                | 30kB 13.3MB/s eta 0:00:01\r\u001b[K     |████████████████████▉           | 40kB 12.5MB/s eta 0:00:01\r\u001b[K     |██████████████████████████      | 51kB 8.2MB/s eta 0:00:01\r\u001b[K     |███████████████████████████████▎| 61kB 8.9MB/s eta 0:00:01\r\u001b[K     |████████████████████████████████| 71kB 6.1MB/s \n",
            "\u001b[?25hRequirement already satisfied: packaging in /usr/local/lib/python3.6/dist-packages (from keras-tuner) (20.8)\n",
            "Requirement already satisfied: future in /usr/local/lib/python3.6/dist-packages (from keras-tuner) (0.16.0)\n",
            "Requirement already satisfied: numpy in /usr/local/lib/python3.6/dist-packages (from keras-tuner) (1.19.5)\n",
            "Requirement already satisfied: tabulate in /usr/local/lib/python3.6/dist-packages (from keras-tuner) (0.8.7)\n",
            "Collecting terminaltables\n",
            "  Downloading https://files.pythonhosted.org/packages/9b/c4/4a21174f32f8a7e1104798c445dacdc1d4df86f2f26722767034e4de4bff/terminaltables-3.1.0.tar.gz\n",
            "Collecting colorama\n",
            "  Downloading https://files.pythonhosted.org/packages/44/98/5b86278fbbf250d239ae0ecb724f8572af1c91f4a11edf4d36a206189440/colorama-0.4.4-py2.py3-none-any.whl\n",
            "Requirement already satisfied: tqdm in /usr/local/lib/python3.6/dist-packages (from keras-tuner) (4.41.1)\n",
            "Requirement already satisfied: requests in /usr/local/lib/python3.6/dist-packages (from keras-tuner) (2.23.0)\n",
            "Requirement already satisfied: scipy in /usr/local/lib/python3.6/dist-packages (from keras-tuner) (1.4.1)\n",
            "Requirement already satisfied: scikit-learn in /usr/local/lib/python3.6/dist-packages (from keras-tuner) (0.22.2.post1)\n",
            "Requirement already satisfied: pyparsing>=2.0.2 in /usr/local/lib/python3.6/dist-packages (from packaging->keras-tuner) (2.4.7)\n",
            "Requirement already satisfied: idna<3,>=2.5 in /usr/local/lib/python3.6/dist-packages (from requests->keras-tuner) (2.10)\n",
            "Requirement already satisfied: chardet<4,>=3.0.2 in /usr/local/lib/python3.6/dist-packages (from requests->keras-tuner) (3.0.4)\n",
            "Requirement already satisfied: certifi>=2017.4.17 in /usr/local/lib/python3.6/dist-packages (from requests->keras-tuner) (2020.12.5)\n",
            "Requirement already satisfied: urllib3!=1.25.0,!=1.25.1,<1.26,>=1.21.1 in /usr/local/lib/python3.6/dist-packages (from requests->keras-tuner) (1.24.3)\n",
            "Requirement already satisfied: joblib>=0.11 in /usr/local/lib/python3.6/dist-packages (from scikit-learn->keras-tuner) (1.0.0)\n",
            "Building wheels for collected packages: keras-tuner, terminaltables\n",
            "  Building wheel for keras-tuner (setup.py) ... \u001b[?25l\u001b[?25hdone\n",
            "  Created wheel for keras-tuner: filename=keras_tuner-1.0.2-cp36-none-any.whl size=78939 sha256=8a07876c9c005ba600ffc6bbd0cb537303b10eab09ded2255717d8cbadfe79d5\n",
            "  Stored in directory: /root/.cache/pip/wheels/bb/a1/8a/7c3de0efb3707a1701b36ebbfdbc4e67aedf6d4943a1f463d6\n",
            "  Building wheel for terminaltables (setup.py) ... \u001b[?25l\u001b[?25hdone\n",
            "  Created wheel for terminaltables: filename=terminaltables-3.1.0-cp36-none-any.whl size=15358 sha256=86e119c1e1673073bd28feb92bb9ebfcd47b18a5319540842dbf1573a3e1f82b\n",
            "  Stored in directory: /root/.cache/pip/wheels/30/6b/50/6c75775b681fb36cdfac7f19799888ef9d8813aff9e379663e\n",
            "Successfully built keras-tuner terminaltables\n",
            "Installing collected packages: terminaltables, colorama, keras-tuner\n",
            "Successfully installed colorama-0.4.4 keras-tuner-1.0.2 terminaltables-3.1.0\n"
          ],
          "name": "stdout"
        }
      ]
    },
    {
      "cell_type": "code",
      "metadata": {
        "id": "tLLeN14ppvp0"
      },
      "source": [
        "from kerastuner import RandomSearch\r\n",
        "from kerastuner.engine.hyperparameters import HyperParameters"
      ],
      "execution_count": 46,
      "outputs": []
    },
    {
      "cell_type": "code",
      "metadata": {
        "id": "4sifpK3apvzU"
      },
      "source": [
        "tuner=RandomSearch(build_model,\r\n",
        "                          objective='val_accuracy',\r\n",
        "                          max_trials=2,directory='output',project_name=\"CIFAR102\")\r\n"
      ],
      "execution_count": 49,
      "outputs": []
    },
    {
      "cell_type": "code",
      "metadata": {
        "colab": {
          "base_uri": "https://localhost:8080/"
        },
        "id": "eCUUzktppv2G",
        "outputId": "41c5b8fa-dee8-4ebe-a3c7-b66fe89a8b09"
      },
      "source": [
        "# model.fit(X_Train ,y_train)\r\n",
        "tuner.search(X_train,y_train,epochs=10,validation_split=0.2)"
      ],
      "execution_count": 50,
      "outputs": [
        {
          "output_type": "stream",
          "text": [
            "Trial 2 Complete [00h 00m 42s]\n",
            "val_accuracy: 0.10159999877214432\n",
            "\n",
            "Best val_accuracy So Far: 0.6940000057220459\n",
            "Total elapsed time: 00h 01m 20s\n",
            "INFO:tensorflow:Oracle triggered exit\n"
          ],
          "name": "stdout"
        }
      ]
    },
    {
      "cell_type": "code",
      "metadata": {
        "id": "WGAbVmG5pv4-"
      },
      "source": [
        "model=tuner.get_best_models(num_models=1)[0]"
      ],
      "execution_count": 56,
      "outputs": []
    },
    {
      "cell_type": "code",
      "metadata": {
        "colab": {
          "base_uri": "https://localhost:8080/"
        },
        "id": "ui5VjQKqpv7k",
        "outputId": "739206ba-3867-441e-85b3-fad316f89c8e"
      },
      "source": [
        "model.summary()"
      ],
      "execution_count": 39,
      "outputs": [
        {
          "output_type": "stream",
          "text": [
            "Model: \"sequential\"\n",
            "_________________________________________________________________\n",
            "Layer (type)                 Output Shape              Param #   \n",
            "=================================================================\n",
            "conv2d (Conv2D)              (None, 28, 28, 112)       8512      \n",
            "_________________________________________________________________\n",
            "max_pooling2d (MaxPooling2D) (None, 14, 14, 112)       0         \n",
            "_________________________________________________________________\n",
            "conv2d_1 (Conv2D)            (None, 12, 12, 32)        32288     \n",
            "_________________________________________________________________\n",
            "max_pooling2d_1 (MaxPooling2 (None, 6, 6, 32)          0         \n",
            "_________________________________________________________________\n",
            "flatten (Flatten)            (None, 1152)              0         \n",
            "_________________________________________________________________\n",
            "dense (Dense)                (None, 112)               129136    \n",
            "_________________________________________________________________\n",
            "dense_1 (Dense)              (None, 10)                1130      \n",
            "=================================================================\n",
            "Total params: 171,066\n",
            "Trainable params: 171,066\n",
            "Non-trainable params: 0\n",
            "_________________________________________________________________\n"
          ],
          "name": "stdout"
        }
      ]
    },
    {
      "cell_type": "code",
      "metadata": {
        "colab": {
          "base_uri": "https://localhost:8080/"
        },
        "id": "ZNa2YFEsxdew",
        "outputId": "cf2b1f4f-5b16-40a7-ae06-2d35fd363728"
      },
      "source": [
        "model.fit(X_train, y_train, epochs=10, validation_split=0.1)"
      ],
      "execution_count": 54,
      "outputs": [
        {
          "output_type": "stream",
          "text": [
            "Epoch 1/10\n",
            "1407/1407 [==============================] - 5s 3ms/step - loss: 0.5980 - accuracy: 0.7882 - val_loss: 1.0461 - val_accuracy: 0.6780\n",
            "Epoch 2/10\n",
            "1407/1407 [==============================] - 4s 3ms/step - loss: 0.5815 - accuracy: 0.7948 - val_loss: 1.0518 - val_accuracy: 0.6736\n",
            "Epoch 3/10\n",
            "1407/1407 [==============================] - 4s 3ms/step - loss: 0.5605 - accuracy: 0.8009 - val_loss: 1.1262 - val_accuracy: 0.6632\n",
            "Epoch 4/10\n",
            "1407/1407 [==============================] - 4s 3ms/step - loss: 0.5464 - accuracy: 0.8065 - val_loss: 1.0830 - val_accuracy: 0.6814\n",
            "Epoch 5/10\n",
            "1407/1407 [==============================] - 4s 3ms/step - loss: 0.5281 - accuracy: 0.8125 - val_loss: 1.1250 - val_accuracy: 0.6794\n",
            "Epoch 6/10\n",
            "1407/1407 [==============================] - 4s 3ms/step - loss: 0.5107 - accuracy: 0.8181 - val_loss: 1.1437 - val_accuracy: 0.6740\n",
            "Epoch 7/10\n",
            "1407/1407 [==============================] - 5s 3ms/step - loss: 0.4980 - accuracy: 0.8224 - val_loss: 1.1543 - val_accuracy: 0.6724\n",
            "Epoch 8/10\n",
            "1407/1407 [==============================] - 5s 3ms/step - loss: 0.4781 - accuracy: 0.8280 - val_loss: 1.1738 - val_accuracy: 0.6672\n",
            "Epoch 9/10\n",
            "1407/1407 [==============================] - 4s 3ms/step - loss: 0.4660 - accuracy: 0.8347 - val_loss: 1.3065 - val_accuracy: 0.6532\n",
            "Epoch 10/10\n",
            "1407/1407 [==============================] - 4s 3ms/step - loss: 0.4534 - accuracy: 0.8375 - val_loss: 1.2368 - val_accuracy: 0.6722\n"
          ],
          "name": "stdout"
        },
        {
          "output_type": "execute_result",
          "data": {
            "text/plain": [
              "<tensorflow.python.keras.callbacks.History at 0x7fb0f42c2048>"
            ]
          },
          "metadata": {
            "tags": []
          },
          "execution_count": 54
        }
      ]
    },
    {
      "cell_type": "code",
      "metadata": {
        "colab": {
          "base_uri": "https://localhost:8080/"
        },
        "id": "t5tSBJDexdh0",
        "outputId": "c57cc48d-6091-42c1-a9c3-5f22253b791e"
      },
      "source": [
        "model.evaluate(X_test,y_test)"
      ],
      "execution_count": 55,
      "outputs": [
        {
          "output_type": "stream",
          "text": [
            "313/313 [==============================] - 1s 2ms/step - loss: 1.3142 - accuracy: 0.6509\n"
          ],
          "name": "stdout"
        },
        {
          "output_type": "execute_result",
          "data": {
            "text/plain": [
              "[1.3141793012619019, 0.6509000062942505]"
            ]
          },
          "metadata": {
            "tags": []
          },
          "execution_count": 55
        }
      ]
    },
    {
      "cell_type": "code",
      "metadata": {
        "colab": {
          "base_uri": "https://localhost:8080/"
        },
        "id": "rGgYjqynxdkd",
        "outputId": "d8c22881-e675-4191-a340-20edc3f0d288"
      },
      "source": [
        "#Predictions\r\n",
        "y_pred = model.predict(X_test)\r\n",
        "y_pred[:5]"
      ],
      "execution_count": 57,
      "outputs": [
        {
          "output_type": "execute_result",
          "data": {
            "text/plain": [
              "array([[1.4131597e-03, 2.2823145e-04, 1.4707287e-03, 8.3508086e-01,\n",
              "        1.0603606e-03, 1.4300007e-01, 9.9072643e-03, 1.2444162e-04,\n",
              "        4.2961524e-03, 3.4187557e-03],\n",
              "       [7.0423289e-04, 2.7748493e-03, 1.1281112e-06, 3.6521326e-06,\n",
              "        2.7409664e-08, 1.8240289e-08, 1.5603761e-09, 1.0564056e-09,\n",
              "        9.9644768e-01, 6.8433721e-05],\n",
              "       [3.6731906e-02, 1.5845372e-01, 2.4569759e-03, 7.2193639e-03,\n",
              "        9.6677366e-04, 5.6994136e-04, 1.6018636e-04, 6.3434651e-04,\n",
              "        7.7874982e-01, 1.4056934e-02],\n",
              "       [7.6567692e-01, 9.6921541e-02, 4.0930664e-04, 3.7546307e-04,\n",
              "        2.2265294e-03, 2.3933406e-05, 5.5426663e-05, 3.5805668e-05,\n",
              "        1.3355653e-01, 7.1846589e-04],\n",
              "       [3.6333377e-06, 1.1394995e-05, 8.5724415e-03, 4.7458028e-03,\n",
              "        7.1289200e-01, 1.6079301e-03, 2.7215001e-01, 5.2621099e-06,\n",
              "        1.1078609e-05, 4.2262468e-07]], dtype=float32)"
            ]
          },
          "metadata": {
            "tags": []
          },
          "execution_count": 57
        }
      ]
    },
    {
      "cell_type": "code",
      "metadata": {
        "colab": {
          "base_uri": "https://localhost:8080/"
        },
        "id": "O8FE10iyxdqg",
        "outputId": "7b2d3821-80ce-4db7-a5d8-0e23eeb36140"
      },
      "source": [
        "#Comparing Actual and pred\r\n",
        "y_classes = [np.argmax(element) for element in y_pred]\r\n",
        "y_classes[:5]"
      ],
      "execution_count": 58,
      "outputs": [
        {
          "output_type": "execute_result",
          "data": {
            "text/plain": [
              "[3, 8, 8, 0, 4]"
            ]
          },
          "metadata": {
            "tags": []
          },
          "execution_count": 58
        }
      ]
    },
    {
      "cell_type": "code",
      "metadata": {
        "colab": {
          "base_uri": "https://localhost:8080/"
        },
        "id": "m_y_sb7V4owf",
        "outputId": "f15a59c0-3140-4368-ab74-1bca3b7d6cf7"
      },
      "source": [
        "y_test[:5]"
      ],
      "execution_count": 59,
      "outputs": [
        {
          "output_type": "execute_result",
          "data": {
            "text/plain": [
              "array([3, 8, 8, 0, 6], dtype=uint8)"
            ]
          },
          "metadata": {
            "tags": []
          },
          "execution_count": 59
        }
      ]
    },
    {
      "cell_type": "code",
      "metadata": {
        "id": "Lned4X474ozM"
      },
      "source": [
        "# Plotting samples images to observe Actual to Pred\r\n",
        "\r\n",
        "orig_classes = [\"airplane\",\"automobile\",\"bird\",\"cat\",\"deer\",\"dog\",\"frog\",\"horse\",\"ship\",\"truck\"]\r\n",
        "\r\n",
        "def plot_sample(X, y, index):\r\n",
        "    plt.figure(figsize = (15,2))\r\n",
        "    plt.imshow(X[index])\r\n",
        "    plt.xlabel(orig_classes[y[index]])"
      ],
      "execution_count": 60,
      "outputs": []
    },
    {
      "cell_type": "code",
      "metadata": {
        "colab": {
          "base_uri": "https://localhost:8080/",
          "height": 173
        },
        "id": "ST8hkqqe4o1j",
        "outputId": "b65f4308-f1f4-4619-c22e-08d7de4307a7"
      },
      "source": [
        "plot_sample(X_train, y_train, 0)"
      ],
      "execution_count": 61,
      "outputs": [
        {
          "output_type": "display_data",
          "data": {
            "image/png": "[encoded data removed]",
            "text/plain": [
              "<Figure size 1080x144 with 1 Axes>"
            ]
          },
          "metadata": {
            "tags": [],
            "needs_background": "light"
          }
        }
      ]
    },
    {
      "cell_type": "code",
      "metadata": {
        "colab": {
          "base_uri": "https://localhost:8080/",
          "height": 173
        },
        "id": "efOufD6x4o4L",
        "outputId": "e15c1f7e-d52f-45bf-b7af-31fedf46f4c1"
      },
      "source": [
        "# Actual\r\n",
        "plot_sample(X_test, y_test, 3)"
      ],
      "execution_count": 69,
      "outputs": [
        {
          "output_type": "display_data",
          "data": {
            "image/png": "[encoded data removed]",
            "text/plain": [
              "<Figure size 1080x144 with 1 Axes>"
            ]
          },
          "metadata": {
            "tags": [],
            "needs_background": "light"
          }
        }
      ]
    },
    {
      "cell_type": "code",
      "metadata": {
        "colab": {
          "base_uri": "https://localhost:8080/",
          "height": 34
        },
        "id": "ghP7qb0l6h7w",
        "outputId": "91141482-7ee4-4fb0-cf45-e3b107549fff"
      },
      "source": [
        "orig_classes[y_classes[3]]"
      ],
      "execution_count": 68,
      "outputs": [
        {
          "output_type": "execute_result",
          "data": {
            "application/vnd.google.colaboratory.intrinsic+json": {
              "type": "string"
            },
            "text/plain": [
              "'airplane'"
            ]
          },
          "metadata": {
            "tags": []
          },
          "execution_count": 68
        }
      ]
    },
    {
      "cell_type": "code",
      "metadata": {
        "id": "i3XQdPIN6h-L"
      },
      "source": [
        ""
      ],
      "execution_count": null,
      "outputs": []
    },
    {
      "cell_type": "code",
      "metadata": {
        "id": "bx_h9cCg6iA3"
      },
      "source": [
        ""
      ],
      "execution_count": null,
      "outputs": []
    }
  ]
}